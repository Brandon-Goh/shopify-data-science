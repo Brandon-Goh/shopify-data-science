{
 "cells": [
  {
   "cell_type": "markdown",
   "metadata": {},
   "source": [
    "Question 1: \n",
    "\n",
    "Analyzing Initial Information\n",
    "\n",
    "- Naive AOV calculation is $3145.13\n",
    "- This number seems very high considering the \"one model of shoe\" that these 100 stores sell are \"relatively affordable\" as mentioned in the question and using my inference as well."
   ]
  },
  {
   "cell_type": "markdown",
   "metadata": {},
   "source": [
    "a. Think about what could be going wrong with our calculation. Think about a better way to evaluate this data. \n",
    "\n",
    ".py file: ***Refer to the .py file*** There could be various things wrong with this calculation and therefore in my program I added a few error checks based on certain factors. For example, I added a function called errorOrderID in case the data was wrong and somehow the system inputted a duplicate of the order (since all OrderID’s should be different). I thought this could be a reason as to why the AOV is so high. I also added a function called errorTotalItems which would cancel out any orders that was above $300/sneaker. I chose the value of $300 because anything above $400 would give me an AOV of >$2700 which also seems very high. This caused my AOV calculation to be a lot lower and cancelled a lot of the outliers. Please check the code I wrote for line-by-line comments which may be easier to understand.\n",
    "\n",
    ".ipynb file: As seen below there are a few orders that have an order amount of roughly $700,000 which seems unusually high for selling the same sneaker model. "
   ]
  },
  {
   "cell_type": "markdown",
   "metadata": {},
   "source": [
    "b. What metric would you report for this dataset?\n",
    "\n",
    "Therefore with the .py file I have removed the outliers, but the .ipynb file I have kept them. The mean of this data is not an appropriate way to evaluate this data due to the few points of data that skew the evaluation. A much better way would be to use the median."
   ]
  },
  {
   "cell_type": "markdown",
   "metadata": {},
   "source": [
    "c. What is its value?\n",
    "- From the .py file (calculated mean but removed outliers), a more accurate average order value is $300.16\n",
    "- From the .ipynb file (median), a more accurate average order value is $284.00"
   ]
  },
  {
   "cell_type": "code",
   "execution_count": null,
   "metadata": {},
   "outputs": [],
   "source": [
    "#Brandon Goh\n",
    "#Importing required libraries\n",
    "import pandas as pd\n",
    "import matplotlib.pyplot as plt\n",
    "import numpy as np"
   ]
  },
  {
   "cell_type": "code",
   "execution_count": 22,
   "metadata": {},
   "outputs": [
    {
     "data": {
      "text/html": [
       "<div>\n",
       "<style scoped>\n",
       "    .dataframe tbody tr th:only-of-type {\n",
       "        vertical-align: middle;\n",
       "    }\n",
       "\n",
       "    .dataframe tbody tr th {\n",
       "        vertical-align: top;\n",
       "    }\n",
       "\n",
       "    .dataframe thead th {\n",
       "        text-align: right;\n",
       "    }\n",
       "</style>\n",
       "<table border=\"1\" class=\"dataframe\">\n",
       "  <thead>\n",
       "    <tr style=\"text-align: right;\">\n",
       "      <th></th>\n",
       "      <th>order_id</th>\n",
       "      <th>shop_id</th>\n",
       "      <th>user_id</th>\n",
       "      <th>order_amount</th>\n",
       "      <th>total_items</th>\n",
       "      <th>payment_method</th>\n",
       "      <th>created_at</th>\n",
       "    </tr>\n",
       "  </thead>\n",
       "  <tbody>\n",
       "    <tr>\n",
       "      <th>0</th>\n",
       "      <td>1</td>\n",
       "      <td>53</td>\n",
       "      <td>746</td>\n",
       "      <td>224</td>\n",
       "      <td>2</td>\n",
       "      <td>cash</td>\n",
       "      <td>2017-03-13 12:36:56</td>\n",
       "    </tr>\n",
       "    <tr>\n",
       "      <th>1</th>\n",
       "      <td>2</td>\n",
       "      <td>92</td>\n",
       "      <td>925</td>\n",
       "      <td>90</td>\n",
       "      <td>1</td>\n",
       "      <td>cash</td>\n",
       "      <td>2017-03-03 17:38:52</td>\n",
       "    </tr>\n",
       "    <tr>\n",
       "      <th>2</th>\n",
       "      <td>3</td>\n",
       "      <td>44</td>\n",
       "      <td>861</td>\n",
       "      <td>144</td>\n",
       "      <td>1</td>\n",
       "      <td>cash</td>\n",
       "      <td>2017-03-14 4:23:56</td>\n",
       "    </tr>\n",
       "    <tr>\n",
       "      <th>3</th>\n",
       "      <td>4</td>\n",
       "      <td>18</td>\n",
       "      <td>935</td>\n",
       "      <td>156</td>\n",
       "      <td>1</td>\n",
       "      <td>credit_card</td>\n",
       "      <td>2017-03-26 12:43:37</td>\n",
       "    </tr>\n",
       "    <tr>\n",
       "      <th>4</th>\n",
       "      <td>5</td>\n",
       "      <td>18</td>\n",
       "      <td>883</td>\n",
       "      <td>156</td>\n",
       "      <td>1</td>\n",
       "      <td>credit_card</td>\n",
       "      <td>2017-03-01 4:35:11</td>\n",
       "    </tr>\n",
       "    <tr>\n",
       "      <th>...</th>\n",
       "      <td>...</td>\n",
       "      <td>...</td>\n",
       "      <td>...</td>\n",
       "      <td>...</td>\n",
       "      <td>...</td>\n",
       "      <td>...</td>\n",
       "      <td>...</td>\n",
       "    </tr>\n",
       "    <tr>\n",
       "      <th>4995</th>\n",
       "      <td>4996</td>\n",
       "      <td>73</td>\n",
       "      <td>993</td>\n",
       "      <td>330</td>\n",
       "      <td>2</td>\n",
       "      <td>debit</td>\n",
       "      <td>2017-03-30 13:47:17</td>\n",
       "    </tr>\n",
       "    <tr>\n",
       "      <th>4996</th>\n",
       "      <td>4997</td>\n",
       "      <td>48</td>\n",
       "      <td>789</td>\n",
       "      <td>234</td>\n",
       "      <td>2</td>\n",
       "      <td>cash</td>\n",
       "      <td>2017-03-16 20:36:16</td>\n",
       "    </tr>\n",
       "    <tr>\n",
       "      <th>4997</th>\n",
       "      <td>4998</td>\n",
       "      <td>56</td>\n",
       "      <td>867</td>\n",
       "      <td>351</td>\n",
       "      <td>3</td>\n",
       "      <td>cash</td>\n",
       "      <td>2017-03-19 5:42:42</td>\n",
       "    </tr>\n",
       "    <tr>\n",
       "      <th>4998</th>\n",
       "      <td>4999</td>\n",
       "      <td>60</td>\n",
       "      <td>825</td>\n",
       "      <td>354</td>\n",
       "      <td>2</td>\n",
       "      <td>credit_card</td>\n",
       "      <td>2017-03-16 14:51:18</td>\n",
       "    </tr>\n",
       "    <tr>\n",
       "      <th>4999</th>\n",
       "      <td>5000</td>\n",
       "      <td>44</td>\n",
       "      <td>734</td>\n",
       "      <td>288</td>\n",
       "      <td>2</td>\n",
       "      <td>debit</td>\n",
       "      <td>2017-03-18 15:48:18</td>\n",
       "    </tr>\n",
       "  </tbody>\n",
       "</table>\n",
       "<p>5000 rows × 7 columns</p>\n",
       "</div>"
      ],
      "text/plain": [
       "      order_id  shop_id  user_id  order_amount  total_items payment_method  \\\n",
       "0            1       53      746           224            2           cash   \n",
       "1            2       92      925            90            1           cash   \n",
       "2            3       44      861           144            1           cash   \n",
       "3            4       18      935           156            1    credit_card   \n",
       "4            5       18      883           156            1    credit_card   \n",
       "...        ...      ...      ...           ...          ...            ...   \n",
       "4995      4996       73      993           330            2          debit   \n",
       "4996      4997       48      789           234            2           cash   \n",
       "4997      4998       56      867           351            3           cash   \n",
       "4998      4999       60      825           354            2    credit_card   \n",
       "4999      5000       44      734           288            2          debit   \n",
       "\n",
       "               created_at  \n",
       "0     2017-03-13 12:36:56  \n",
       "1     2017-03-03 17:38:52  \n",
       "2      2017-03-14 4:23:56  \n",
       "3     2017-03-26 12:43:37  \n",
       "4      2017-03-01 4:35:11  \n",
       "...                   ...  \n",
       "4995  2017-03-30 13:47:17  \n",
       "4996  2017-03-16 20:36:16  \n",
       "4997   2017-03-19 5:42:42  \n",
       "4998  2017-03-16 14:51:18  \n",
       "4999  2017-03-18 15:48:18  \n",
       "\n",
       "[5000 rows x 7 columns]"
      ]
     },
     "execution_count": 22,
     "metadata": {},
     "output_type": "execute_result"
    }
   ],
   "source": [
    "# Loading the CSV\n",
    "purchases_df = pd.read_csv('data.csv')\n",
    "purchases_df"
   ]
  },
  {
   "cell_type": "code",
   "execution_count": 44,
   "metadata": {},
   "outputs": [
    {
     "name": "stdout",
     "output_type": "stream",
     "text": [
      "3145.13\n"
     ]
    }
   ],
   "source": [
    "total = purchases_df['order_amount'].sum()\n",
    "orders = purchases_df['order_amount'].count()\n",
    "aov = total / orders\n",
    "#or purchases_df[\"order_amount\"].mean()\n",
    "#Just confirming the naive AOV\n",
    "print(round(aov,2))"
   ]
  },
  {
   "cell_type": "code",
   "execution_count": 45,
   "metadata": {},
   "outputs": [
    {
     "data": {
      "image/png": "[encoded data removed]",
      "text/plain": [
       "<Figure size 432x288 with 1 Axes>"
      ]
     },
     "metadata": {
      "needs_background": "light"
     },
     "output_type": "display_data"
    }
   ],
   "source": [
    "plt.scatter(x='order_amount',y='order_id', data=purchases_df)\n",
    "plt.title('Scatterplot of Order Amounts')\n",
    "plt.xlabel('Order Amount')\n",
    "plt.ylabel('Order ID')\n",
    "plt.show()\n",
    "#Visual to show data to help analyze"
   ]
  },
  {
   "cell_type": "code",
   "execution_count": 51,
   "metadata": {},
   "outputs": [
    {
     "data": {
      "text/plain": [
       "284.0"
      ]
     },
     "execution_count": 51,
     "metadata": {},
     "output_type": "execute_result"
    }
   ],
   "source": [
    "purchases_df[\"order_amount\"].median()"
   ]
  },
  {
   "cell_type": "markdown",
   "metadata": {},
   "source": [
    "Question 2: For this question you’ll need to use SQL. Follow this link to access the data set required for the challenge. Please use queries to answer the following questions. Paste your queries along with your final numerical answers below.\n",
    "\n",
    "How many orders were shipped by Speedy Express in total? \n",
    "\n",
    "After inspecting the tables, I realized that both Shippers and Orders tables had the ShipperID in common. I went to the Orders table and found how many records had the same ShipperID and corresponded to the ShipperName (in Shippers table) of “Speedy Express”.\n",
    "\n",
    "Answer: 54\n",
    "\n",
    "SELECT COUNT(*)\n",
    "FROM Shippers, Orders\n",
    "WHERE Orders.ShipperID = Shippers.ShipperID\n",
    "AND ShipperName = 'Speedy Express';\n",
    "\n",
    "\n",
    "\n",
    "What is the last name of the employee with the most orders?\n",
    "\n",
    "After inspecting the tables, I found that the correlation between the Orders and Employees tables was the EmployeeID. Then, I found where the EmployeeID matches the entries from both tables, grouped them by their ID and returned the most orders from sorting by descending order.\n",
    "Answer: Peacock\n",
    "\n",
    "SELECT employ.LastName\n",
    "FROM Orders ords, Employees employ\n",
    "WHERE employ.EmployeeID = ords.EmployeeID\n",
    "GROUP BY ords.EmployeeID\n",
    "ORDER BY COUNT(*) DESC\n",
    "LIMIT 1;\n",
    "\n",
    "\n",
    "\n",
    "What product was ordered the most by customers in Germany?\n",
    "\n",
    "After inspecting the tables, the correlation from the CustomerID, OrderID and ProductID was used to find what product was ordered the most by customers in Germany.\n",
    "\n",
    "Answer: Boston Crab Meat\n",
    "\n",
    "FROM Products product, OrderDetails ordsdet, Customers cstmer, Orders ords\n",
    "WHERE cstmer.Country = \"Germany\"\n",
    "\tAND cstmer.CustomerID = ords.CustomerID\n",
    "\tAND ords.OrderID = ordsdet.OrderID\n",
    "    AND ordsdet.ProductID = product.ProductID\n",
    "LIMIT 1;\n"
   ]
  }
 ],
 "metadata": {
  "kernelspec": {
   "display_name": "Python 3",
   "language": "python",
   "name": "python3"
  },
  "language_info": {
   "codemirror_mode": {
    "name": "ipython",
    "version": 3
   },
   "file_extension": ".py",
   "mimetype": "text/x-python",
   "name": "python",
   "nbconvert_exporter": "python",
   "pygments_lexer": "ipython3",
   "version": "3.8.5"
  }
 },
 "nbformat": 4,
 "nbformat_minor": 4
}
